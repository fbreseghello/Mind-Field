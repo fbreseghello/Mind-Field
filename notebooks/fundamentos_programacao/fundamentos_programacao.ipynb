{
 "cells": [
  {
   "cell_type": "markdown",
   "metadata": {},
   "source": [
    "*Fundamentos da Programação e Lógica*\n",
    "\n",
    "*Tópicos Principais*\n",
    "\n",
    "1. Conceitos Básicos\n",
    "    * Algoritmos e como eles funcionam.\n",
    "    * Sequência, decisão (condicional) e repetição (looping).\n",
    "\n",
    "2. Estruturas de Controle\n",
    "\n",
    "    * Condições: `if`, `else`, `elif`.\n",
    "    * Laços: `for`, `while`.\n",
    "\n",
    "3. Estruturas de Dados\n",
    "    * Variáveis, constantes.\n",
    "    * Listas, tuplas, dicionários.\n",
    "\n",
    "4. Funções e Modularização\n",
    "    * Funções: definição, parâmetros e retorno.\n",
    "    * Reutilização de código.\n",
    "\n",
    "*Primeiro Exemplo de Algoritmo*\n",
    "\n",
    "Para começar simples, aqui está um algoritmo básico de um jogo de adivinhação:\n",
    "\n",
    "1. Escolha um número.\n",
    "2. O usuário tenta adivinhar.\n",
    "3. Informe se acertou, ou dê uma dica (\"maior\" ou \"menor\")."
   ]
  },
  {
   "cell_type": "markdown",
   "metadata": {},
   "source": [
    "1. Gerar um número aleatório entre 1 e 100.\n",
    "\n",
    "2. Enquanto o usuário não acertar:\n",
    "   2. 1. Pedir um número ao usuário.\n",
    "   2. 2. Se o número for igual ao escolhido, mostrar \"Acertou!\" e terminar.\n",
    "   2. 3. Se o número for menor, mostrar \"Tente um número maior\".\n",
    "   2. 4. Se o número for maior, mostrar \"Tente um número menor\"."
   ]
  },
  {
   "cell_type": "markdown",
   "metadata": {},
   "source": [
    "*Exercício Inicial*\n",
    "\n",
    "Vamos implementar o jogo de adivinhação em Python! Aqui está o código básico para você experimentar e entender:"
   ]
  },
  {
   "cell_type": "code",
   "execution_count": null,
   "metadata": {},
   "outputs": [],
   "source": [
    "import random\n",
    "\n",
    "# Gera um número aleatório entre 1 e 100\n",
    "numero_secreto = random.randint(1, 100)\n",
    "\n",
    "print(\"Bem-vindo ao jogo de adivinhação!\")\n",
    "print(\"Tente adivinhar o número secreto entre 1 e 100.\")\n",
    "\n",
    "while True:\n",
    "    # Pede um palpite do usuário\n",
    "    try:\n",
    "        palpite = int(input(\"Seu palpite: \"))\n",
    "    except ValueError:\n",
    "        print(\"Por favor, digite um número válido!\")\n",
    "        continue\n",
    "    \n",
    "    # Verifica o palpite\n",
    "    if palpite == numero_secreto:\n",
    "        print(\"Parabéns! Você acertou o número!\")\n",
    "        break\n",
    "    elif palpite < numero_secreto:\n",
    "        print(\"Tente um número maior.\")\n",
    "    else:\n",
    "        print(\"Tente um número menor.\")"
   ]
  },
  {
   "cell_type": "markdown",
   "metadata": {},
   "source": [
    "*Tarefa*\n",
    "\n",
    "1. Execute o código acima e documente no seu repositório:\n",
    "    * O que você entendeu do fluxo lógico.\n",
    "    * Como melhoraria o código.\n",
    "\n",
    "2. Faça pequenas modificações:\n",
    "    * Adicione um contador de tentativas.\n",
    "    * Limite o número de tentativas e mostre uma mensagem ao perder."
   ]
  },
  {
   "cell_type": "markdown",
   "metadata": {},
   "source": [
    "* Aprendizados \n",
    "    * Uso de estruturas de repetição (`while`) e controle condicional (`if`, `elif`, `else`).\n",
    "    * Manipulação de entrada de dados com `input()` e conversão para inteiro.\n",
    "    * Gerenciamento de exceções com `try` e `except`.\n",
    "\n",
    "* Melhorias Possíveis \n",
    "    * Transformar o código em funções para maior modularidade.\n",
    "    * Adicionar um sistema de pontuação com base no número de tentativas."
   ]
  },
  {
   "cell_type": "markdown",
   "metadata": {},
   "source": [
    "_Explorando Lógica de Programação_\n",
    "\n",
    "*Tópicos Detalhados*\n",
    "\n",
    "1. Conceitos Básicos:\n",
    "    * O que é um algoritmo.\n",
    "    * Representação de algoritmos (pseudocódigo, fluxogramas).\n",
    "    * Entrada, processamento e saída.\n",
    "\n",
    "2. Estruturas de Controle\n",
    "    * Sequência: Execução de instruções em ordem.\n",
    "    * Decisão: if, else, elif..\n",
    "    * Repetição:\n",
    "        * Laços Determinados: for.\n",
    "        * Laços Indeterminados: while.\n",
    "\n",
    "3. Estruturas de Dados\n",
    "    * Variáveis e constantes.\n",
    "    * Tipos de dados (inteiro, float, string, booleano).\n",
    "    * Listas, dicionários, tuplas e conjuntos.\n",
    "\n",
    "4. Funções e Modularização\n",
    "    * O que são funções.\n",
    "    * Parâmetros e valores de retorno.\n",
    "    * Modularizando o código para facilitar a manutenção.\n",
    "\n",
    "5. Tratamento de Erros\n",
    "\n",
    "    * Como capturar erros com `try`, `except`.\n",
    "\n",
    "6. Desafios Práticos\n",
    "\n",
    "    * Exercícios para fixar os conceitos acima."
   ]
  },
  {
   "cell_type": "markdown",
   "metadata": {},
   "source": [
    "_Exemplo Prático em Cada Tópico_\n",
    "\n",
    "1. Algoritmo Básico\n",
    "\n",
    "Pseudocódigo para calcular a média de duas notas:\n",
    "1. Leia nota1\n",
    "2. Leia nota2\n",
    "3. Calcule media = (nota1 + nota2) / 2\n",
    "4. Mostre o resultado\n",
    "\n",
    "Código em Python:"
   ]
  },
  {
   "cell_type": "code",
   "execution_count": null,
   "metadata": {},
   "outputs": [],
   "source": [
    "nota1 = float(input(\"Digite a primeira nota: \"))\n",
    "nota2 = float(input(\"Digite a segunda nota: \"))\n",
    "media = (nota1 + nota2) / 2\n",
    "print(f\"A média é: {media}\")"
   ]
  },
  {
   "cell_type": "markdown",
   "metadata": {},
   "source": [
    "2. Estruturas de Controle\n",
    "\n",
    "Exemplo com Decisão:"
   ]
  },
  {
   "cell_type": "code",
   "execution_count": null,
   "metadata": {},
   "outputs": [],
   "source": [
    "idade = int(input(\"Digite sua idade: \"))\n",
    "\n",
    "if idade < 18:\n",
    "    print(\"Você é menor de idade.\")\n",
    "elif idade < 65:\n",
    "    print(\"Você é adulto.\")\n",
    "else:\n",
    "    print(\"Você é idoso.\")"
   ]
  },
  {
   "cell_type": "markdown",
   "metadata": {},
   "source": [
    "Exemplo com Repetição (`for`):"
   ]
  },
  {
   "cell_type": "code",
   "execution_count": null,
   "metadata": {},
   "outputs": [],
   "source": [
    "for i in range(1, 11):\n",
    "    print(f\"Tabuada do {i}:\")\n",
    "    for j in range(1, 11):\n",
    "        print(f\"{i} x {j} = {i * j}\")\n",
    "    print()"
   ]
  },
  {
   "cell_type": "markdown",
   "metadata": {},
   "source": [
    "3. Estruturas de Dados\n",
    "\n",
    "Lista e Dicionário:"
   ]
  },
  {
   "cell_type": "code",
   "execution_count": null,
   "metadata": {},
   "outputs": [],
   "source": [
    "# Lista\n",
    "frutas = [\"maçã\", \"banana\", \"laranja\"]\n",
    "for fruta in frutas:\n",
    "    print(f\"Eu gosto de {fruta}.\")\n",
    "\n",
    "# Dicionário\n",
    "pessoa = {\"nome\": \"Carlos\", \"idade\": 30, \"cidade\": \"São Paulo\"}\n",
    "print(f\"O nome é {pessoa['nome']} e a idade é {pessoa['idade']}.\")\n"
   ]
  },
  {
   "cell_type": "markdown",
   "metadata": {},
   "source": [
    "4. Funções\n",
    "\n",
    "Exemplo de Função:"
   ]
  },
  {
   "cell_type": "code",
   "execution_count": null,
   "metadata": {},
   "outputs": [],
   "source": [
    "def calcular_area_retangulo(base, altura):\n",
    "    return base * altura\n",
    "\n",
    "base = float(input(\"Digite a base: \"))\n",
    "altura = float(input(\"Digite a altura: \"))\n",
    "print(f\"A área do retângulo é: {calcular_area_retangulo(base, altura)}\")\n"
   ]
  },
  {
   "cell_type": "markdown",
   "metadata": {},
   "source": [
    "5. Tratamento de Erros\n",
    "\n",
    "Exemplo com ´try´ e ´except´:"
   ]
  },
  {
   "cell_type": "code",
   "execution_count": null,
   "metadata": {},
   "outputs": [],
   "source": [
    "try:\n",
    "    numero = int(input(\"Digite um número: \"))\n",
    "    print(f\"O dobro do número é: {numero * 2}\")\n",
    "except ValueError:\n",
    "    print(\"Erro: você deve digitar um número válido.\")\n"
   ]
  },
  {
   "cell_type": "markdown",
   "metadata": {},
   "source": [
    "_Dicas Finais_\n",
    "\n",
    "1. Leia os Erros: Sempre leia a mensagem de erro para entender o que está errado.\n",
    "2. Divida para Conquistar: Resolva problemas grandes dividindo-os em partes menores.\n",
    "3. Teste Tudo: Teste seu código com entradas inesperadas.\n",
    "4. Documente: Adicione comentários claros ao código.\n",
    "5. Explore: Pesquise na documentação oficial ou em comunidades como Stack Overflow quando tiver dúvidas.\n",
    "\n",
    "_Tarefa_\n",
    "\n",
    "1. Documente cada tópico no seu repositório:\n",
    "    * Use Markdown para organizar exemplos e explicações.\n",
    "    * Inclua o código e comentários explicando o que ele faz.\n",
    "\n",
    "2. Exercícios Propostos:\n",
    "    * Crie um programa que verifique se um número é primo.\n",
    "    * Faça um programa que receba uma lista de números e mostre o maior e o menor valor.\n",
    "    * Implemente uma calculadora com as 4 operações básicas usando funções."
   ]
  }
 ],
 "metadata": {
  "kernelspec": {
   "display_name": "Python 3",
   "language": "python",
   "name": "python3"
  },
  "language_info": {
   "codemirror_mode": {
    "name": "ipython",
    "version": 3
   },
   "file_extension": ".py",
   "mimetype": "text/x-python",
   "name": "python",
   "nbconvert_exporter": "python",
   "pygments_lexer": "ipython3",
   "version": "3.13.1"
  }
 },
 "nbformat": 4,
 "nbformat_minor": 2
}
