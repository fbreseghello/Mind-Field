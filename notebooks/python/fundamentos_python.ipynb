{
 "cells": [
  {
   "cell_type": "markdown",
   "metadata": {},
   "source": [
    "# _Plano para Aprender Python (Módulo 1: Básico)_\n",
    "\n",
    "1. Introdução ao Python\n",
    "    * O que é Python e como instalar.\n",
    "    * Executando Python: Terminal, scripts e Jupyter Notebook.\n",
    "\n",
    "2. Sintaxe Básica\n",
    "    * Comentários.\n",
    "    * Exibindo mensagens: `print()`.\n",
    "    * Indentação e estrutura do código.\n",
    "\n",
    "3. Variáveis e Tipos de Dados\n",
    "    * Declarando variáveis.\n",
    "    * Tipos de dados comuns: `int`, `float`, `str`, `bool`.\n",
    "    * Funções para conversão: `int()`, `float()`, `str()`.\n",
    "\n",
    "4. Operadores\n",
    "    * Operadores aritméticos: `+`, `-`, `*`, `/`, `**`, `%`.\n",
    "    * Operadores de comparação: `==`, `!=`, `<`, `>`, `<=`, `>=`.\n",
    "    * Operadores lógicos: `and`, `or`, `not`.\n",
    "\n",
    "5. Entrada de Dados\n",
    "    * Usando `input()` para capturar dados do usuário.\n",
    "\n",
    "6. Estruturas Condicionais\n",
    "    * `if`, `elif`, `else`.\n",
    "\n",
    "7. Estruturas de Repetição\n",
    "    * `for`.\n",
    "    * `while`."
   ]
  },
  {
   "cell_type": "markdown",
   "metadata": {},
   "source": [
    "# Aula 1: _Introdução ao Python_\n",
    "\n",
    "## O que é Python?\n",
    "\n",
    "* Python é uma linguagem de programação fácil de aprender, usada em diversas áreas como IA, análise de dados, desenvolvimento web e automação.\n",
    "* E o Jupyter Notebook? O Jupyter Notebook é um aplicativo web de código aberto que permite criar e compartilhar documentos interativos com código, equações, imagens e gráficos. É uma ferramenta muito utilizada por cientistas de dados e programadores Python.\n",
    "\n",
    "## Instalação\n",
    "\n",
    "Para instalação do Python e do Jupyter Notebook siga conforme o [arquivo](docs\\instalacao_dependencias.md).\n",
    "\n",
    "# Aula 2: _Sintaxe Básica do Python_\n",
    "\n",
    "1. Comentários\n",
    "    * Comentários servem para explicar o código.\n",
    "    * Eles são ignorados pelo Python ao executar o programa.\n",
    "    * Exemplos:"
   ]
  },
  {
   "cell_type": "code",
   "execution_count": null,
   "metadata": {},
   "outputs": [],
   "source": [
    "# Este é um comentário\n",
    "print(\"Olá, mundo!\")  # Este é outro comentário"
   ]
  },
  {
   "cell_type": "markdown",
   "metadata": {},
   "source": [
    "2. Exibindo Mensagens\n",
    "    * Usamos a função `print()` para mostrar mensagens na tela.\n",
    "    * Exemplos:"
   ]
  },
  {
   "cell_type": "code",
   "execution_count": null,
   "metadata": {},
   "outputs": [],
   "source": [
    "print(\"Olá, mundo!\")\n",
    "print(\"Meu nome é Python.\")"
   ]
  },
  {
   "cell_type": "markdown",
   "metadata": {},
   "source": [
    "3. Indentação\n",
    "    * Python usa indentação para definir blocos de código (não usa chaves `{}` como outras linguagens).\n",
    "    * Exemplo:"
   ]
  },
  {
   "cell_type": "code",
   "execution_count": null,
   "metadata": {},
   "outputs": [],
   "source": [
    "if 5 > 3:\n",
    "    print(\"5 é maior que 3\")  # Este código está indentado corretamente"
   ]
  },
  {
   "cell_type": "markdown",
   "metadata": {},
   "source": [
    "## Exercício 1: Praticando\n",
    "\n",
    "1.  Sintaxe Básica\n",
    "    * Testando os conceitos de comentários, `print()` e indentação."
   ]
  },
  {
   "cell_type": "code",
   "execution_count": null,
   "metadata": {},
   "outputs": [],
   "source": [
    "# Imprimindo mensagens\n",
    "print(\"Aprendendo Python é divertido!\")\n",
    "\n",
    "# Usando um bloco condicional com indentação\n",
    "if 10 > 2:\n",
    "    print(\"10 é maior que 2\")"
   ]
  },
  {
   "cell_type": "markdown",
   "metadata": {},
   "source": [
    "# Aula 3: Variáveis e Tipos de Dados\n",
    "\n",
    "1. O que são Variáveis?\n",
    "Variáveis armazenam dados para serem usados no programa.\n",
    "Sintaxe: `nome_da_variavel = valor`.\n",
    "\n",
    "2. Tipos de Dados:\n",
    "\n",
    "    `int`: Números inteiros (ex.: 10, -5).\n",
    "\n",
    "    `float`: Números decimais (ex.: 3.14, -2.5).\n",
    "\n",
    "    `str`: Texto ou strings (ex.: \"Python\", 'Olá').\n",
    "\n",
    "    `bool`: Valores booleanos (True, False).\n",
    "\n",
    "    OBS. Valores booleanos são valores lógicos que podem ter apenas dois valores: verdadeiro ou falso. São usados na programação e na lógica para expressar o resultado de uma condição ou comparação. \n",
    "\n",
    "3. Exemplo:"
   ]
  },
  {
   "cell_type": "code",
   "execution_count": null,
   "metadata": {},
   "outputs": [],
   "source": [
    "# Declarando variáveis\n",
    "idade = 25        # int\n",
    "altura = 1.75     # float\n",
    "nome = \"João\"     # str\n",
    "estudante = True  # bool\n",
    "\n",
    "# Exibindo os valores\n",
    "print(f\"Nome: {nome}, Idade: {idade}, Altura: {altura}, Estudante: {estudante}\")"
   ]
  },
  {
   "cell_type": "markdown",
   "metadata": {},
   "source": [
    "## Exercício 2: Criando Variáveis\n",
    "\n",
    "## Variáveis e Tipos de Dados\n",
    "\n",
    "Aprendendo a declarar variáveis e trabalhar com diferentes tipos de dados."
   ]
  },
  {
   "cell_type": "code",
   "execution_count": null,
   "metadata": {},
   "outputs": [],
   "source": [
    "# Testando variáveis\n",
    "cidade = \"São Paulo\"\n",
    "populacao = 12300000\n",
    "clima = \"Tropical\"\n",
    "print(f\"A cidade de {cidade} tem uma população de {populacao} e clima {clima}.\")"
   ]
  }
 ],
 "metadata": {
  "language_info": {
   "name": "python"
  }
 },
 "nbformat": 4,
 "nbformat_minor": 2
}
